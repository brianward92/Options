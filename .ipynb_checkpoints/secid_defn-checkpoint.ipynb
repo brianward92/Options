{
 "cells": [
  {
   "cell_type": "markdown",
   "metadata": {},
   "source": [
    "### Import Data\n",
    "\n",
    "And clean dates into `pd.DateTime`. "
   ]
  },
  {
   "cell_type": "code",
   "execution_count": 167,
   "metadata": {},
   "outputs": [],
   "source": [
    "import pandas as pd\n",
    "\n",
    "df = pd.read_csv('./dat/spx_option_prices.csv')\n",
    "df['exdate'] = pd.to_datetime(df['exdate'].astype(str))\n",
    "df['date'] = pd.to_datetime(df['date'].astype(str))"
   ]
  },
  {
   "cell_type": "markdown",
   "metadata": {},
   "source": [
    "### Simplify Dataset\n",
    "\n",
    "There are a few columns that would never be needed because they do not even vary. There are additional columns giving the option greeks, but I think I'll also omit those too later on. "
   ]
  },
  {
   "cell_type": "code",
   "execution_count": 168,
   "metadata": {},
   "outputs": [
    {
     "name": "stdout",
     "output_type": "stream",
     "text": [
      "[108105]\n",
      "['P']\n",
      "[1]\n",
      "['CBOE S&P 500 INDEX']\n",
      "['E']\n"
     ]
    }
   ],
   "source": [
    "for col in ['secid','cp_flag','index_flag','issuer','exercise_style']:\n",
    "    print(df[col].unique())\n",
    "    del df[col]"
   ]
  },
  {
   "cell_type": "markdown",
   "metadata": {},
   "source": [
    "### Add Column for `daysToExpiry`\n",
    "\n",
    "`daysToExpiry` is probably clear."
   ]
  },
  {
   "cell_type": "code",
   "execution_count": 169,
   "metadata": {},
   "outputs": [
    {
     "data": {
      "text/plain": [
       "0"
      ]
     },
     "execution_count": 169,
     "metadata": {},
     "output_type": "execute_result"
    }
   ],
   "source": [
    "df['daysToExpiry'] = ((df['exdate'] - df['date']).astype(int)/1e9/3600/24).astype(int)\n",
    "df['daysToExpiry'].min()"
   ]
  },
  {
   "cell_type": "markdown",
   "metadata": {},
   "source": [
    "### Add Column for `lifeTime`\n",
    "\n",
    "There is a unique key in the dataset called `optionid`. It is unique in the sense that for every `(date, optionid)` there is exactly 1 row in our dataset. However, the properties of an option are determined by the strike price (`strike_price`) and expiry date (`exdate`) because otherwise, the timing and cash flows are exactly the same. Thus, we expected `optionid` to `1:1` with `(exdate, strike_price)`. However, the following shows that `(date, exdate, strike_price)` have multiple rows associated with them.\n",
    "\n",
    "My guess is that there is some pair of weekly, monthly, and quarterly options in which both option styles have the same expiration date. To try to approximate that, we look at the option's `lifeTime` which is the maximum date until expiry. "
   ]
  },
  {
   "cell_type": "code",
   "execution_count": 170,
   "metadata": {},
   "outputs": [
    {
     "name": "stdout",
     "output_type": "stream",
     "text": [
      "8462528\n",
      "7841799\n"
     ]
    }
   ],
   "source": [
    "print(len(df))\n",
    "print(len(df[['date','exdate','strike_price']].drop_duplicates()))"
   ]
  },
  {
   "cell_type": "code",
   "execution_count": 171,
   "metadata": {},
   "outputs": [],
   "source": [
    "df_lt = df.groupby('optionid')['daysToExpiry'].max().reset_index().rename(\n",
    "    {'daysToExpiry':'lifeTime'},axis=1)\n",
    "df = df.merge(df_lt, how = 'left', on = 'optionid', validate = 'm:1')"
   ]
  },
  {
   "cell_type": "code",
   "execution_count": 172,
   "metadata": {},
   "outputs": [
    {
     "name": "stdout",
     "output_type": "stream",
     "text": [
      "8462528\n",
      "8018016\n"
     ]
    }
   ],
   "source": [
    "print(len(df))\n",
    "print(len(df[['date','exdate','strike_price','lifeTime']].drop_duplicates()))"
   ]
  },
  {
   "cell_type": "code",
   "execution_count": 207,
   "metadata": {},
   "outputs": [
    {
     "data": {
      "text/plain": [
       "903"
      ]
     },
     "execution_count": 207,
     "metadata": {},
     "output_type": "execute_result"
    }
   ],
   "source": [
    "obj = df.groupby('optionid')['daysToExpiry'].min()\n",
    "mx = obj.max()\n",
    "mx"
   ]
  },
  {
   "cell_type": "code",
   "execution_count": 210,
   "metadata": {},
   "outputs": [
    {
     "data": {
      "text/plain": [
       "optionid\n",
       "127294298    903\n",
       "127294299    903\n",
       "127294300    903\n",
       "127294301    903\n",
       "127294302    903\n",
       "Name: daysToExpiry, dtype: int64"
      ]
     },
     "execution_count": 210,
     "metadata": {},
     "output_type": "execute_result"
    }
   ],
   "source": [
    "obj[obj == mx].head()"
   ]
  },
  {
   "cell_type": "code",
   "execution_count": 211,
   "metadata": {},
   "outputs": [
    {
     "data": {
      "text/html": [
       "<div>\n",
       "<style scoped>\n",
       "    .dataframe tbody tr th:only-of-type {\n",
       "        vertical-align: middle;\n",
       "    }\n",
       "\n",
       "    .dataframe tbody tr th {\n",
       "        vertical-align: top;\n",
       "    }\n",
       "\n",
       "    .dataframe thead th {\n",
       "        text-align: right;\n",
       "    }\n",
       "</style>\n",
       "<table border=\"1\" class=\"dataframe\">\n",
       "  <thead>\n",
       "    <tr style=\"text-align: right;\">\n",
       "      <th></th>\n",
       "      <th>date</th>\n",
       "      <th>exdate</th>\n",
       "      <th>last_date</th>\n",
       "      <th>strike_price</th>\n",
       "      <th>best_bid</th>\n",
       "      <th>best_offer</th>\n",
       "      <th>volume</th>\n",
       "      <th>open_interest</th>\n",
       "      <th>impl_volatility</th>\n",
       "      <th>delta</th>\n",
       "      <th>gamma</th>\n",
       "      <th>vega</th>\n",
       "      <th>theta</th>\n",
       "      <th>optionid</th>\n",
       "      <th>forward_price</th>\n",
       "      <th>daysToExpiry</th>\n",
       "      <th>lifeTime</th>\n",
       "      <th>ct</th>\n",
       "    </tr>\n",
       "  </thead>\n",
       "  <tbody>\n",
       "    <tr>\n",
       "      <th>7572729</th>\n",
       "      <td>2018-12-26</td>\n",
       "      <td>2021-12-17</td>\n",
       "      <td>20181226.0</td>\n",
       "      <td>1000000</td>\n",
       "      <td>7.5</td>\n",
       "      <td>17.4</td>\n",
       "      <td>1</td>\n",
       "      <td>0</td>\n",
       "      <td>0.310159</td>\n",
       "      <td>-0.020868</td>\n",
       "      <td>0.000038</td>\n",
       "      <td>212.0977</td>\n",
       "      <td>-10.161210</td>\n",
       "      <td>127294298</td>\n",
       "      <td>2548.872340</td>\n",
       "      <td>1087</td>\n",
       "      <td>1087</td>\n",
       "      <td>1</td>\n",
       "    </tr>\n",
       "    <tr>\n",
       "      <th>7580461</th>\n",
       "      <td>2018-12-27</td>\n",
       "      <td>2021-12-17</td>\n",
       "      <td>20181227.0</td>\n",
       "      <td>1000000</td>\n",
       "      <td>8.0</td>\n",
       "      <td>18.0</td>\n",
       "      <td>1</td>\n",
       "      <td>1</td>\n",
       "      <td>0.314782</td>\n",
       "      <td>-0.021189</td>\n",
       "      <td>0.000037</td>\n",
       "      <td>216.6408</td>\n",
       "      <td>-10.559520</td>\n",
       "      <td>127294298</td>\n",
       "      <td>2570.205534</td>\n",
       "      <td>1086</td>\n",
       "      <td>1087</td>\n",
       "      <td>1</td>\n",
       "    </tr>\n",
       "    <tr>\n",
       "      <th>7588125</th>\n",
       "      <td>2018-12-28</td>\n",
       "      <td>2021-12-17</td>\n",
       "      <td>20181228.0</td>\n",
       "      <td>1000000</td>\n",
       "      <td>8.0</td>\n",
       "      <td>17.5</td>\n",
       "      <td>1</td>\n",
       "      <td>2</td>\n",
       "      <td>0.313325</td>\n",
       "      <td>-0.020969</td>\n",
       "      <td>0.000037</td>\n",
       "      <td>214.3754</td>\n",
       "      <td>-10.419860</td>\n",
       "      <td>127294298</td>\n",
       "      <td>2565.769114</td>\n",
       "      <td>1085</td>\n",
       "      <td>1087</td>\n",
       "      <td>1</td>\n",
       "    </tr>\n",
       "    <tr>\n",
       "      <th>7595927</th>\n",
       "      <td>2018-12-31</td>\n",
       "      <td>2021-12-17</td>\n",
       "      <td>20181228.0</td>\n",
       "      <td>1000000</td>\n",
       "      <td>7.0</td>\n",
       "      <td>16.5</td>\n",
       "      <td>0</td>\n",
       "      <td>2</td>\n",
       "      <td>0.312168</td>\n",
       "      <td>-0.019507</td>\n",
       "      <td>0.000035</td>\n",
       "      <td>203.2778</td>\n",
       "      <td>-9.803896</td>\n",
       "      <td>127294298</td>\n",
       "      <td>2600.503990</td>\n",
       "      <td>1082</td>\n",
       "      <td>1087</td>\n",
       "      <td>1</td>\n",
       "    </tr>\n",
       "    <tr>\n",
       "      <th>7603604</th>\n",
       "      <td>2019-01-02</td>\n",
       "      <td>2021-12-17</td>\n",
       "      <td>20181228.0</td>\n",
       "      <td>1000000</td>\n",
       "      <td>6.1</td>\n",
       "      <td>16.0</td>\n",
       "      <td>0</td>\n",
       "      <td>2</td>\n",
       "      <td>0.309355</td>\n",
       "      <td>-0.018666</td>\n",
       "      <td>0.000034</td>\n",
       "      <td>195.8898</td>\n",
       "      <td>-9.375538</td>\n",
       "      <td>127294298</td>\n",
       "      <td>2604.869839</td>\n",
       "      <td>1080</td>\n",
       "      <td>1087</td>\n",
       "      <td>1</td>\n",
       "    </tr>\n",
       "  </tbody>\n",
       "</table>\n",
       "</div>"
      ],
      "text/plain": [
       "              date     exdate   last_date  strike_price  best_bid  best_offer  \\\n",
       "7572729 2018-12-26 2021-12-17  20181226.0       1000000       7.5        17.4   \n",
       "7580461 2018-12-27 2021-12-17  20181227.0       1000000       8.0        18.0   \n",
       "7588125 2018-12-28 2021-12-17  20181228.0       1000000       8.0        17.5   \n",
       "7595927 2018-12-31 2021-12-17  20181228.0       1000000       7.0        16.5   \n",
       "7603604 2019-01-02 2021-12-17  20181228.0       1000000       6.1        16.0   \n",
       "\n",
       "         volume  open_interest  impl_volatility     delta     gamma      vega  \\\n",
       "7572729       1              0         0.310159 -0.020868  0.000038  212.0977   \n",
       "7580461       1              1         0.314782 -0.021189  0.000037  216.6408   \n",
       "7588125       1              2         0.313325 -0.020969  0.000037  214.3754   \n",
       "7595927       0              2         0.312168 -0.019507  0.000035  203.2778   \n",
       "7603604       0              2         0.309355 -0.018666  0.000034  195.8898   \n",
       "\n",
       "             theta   optionid  forward_price  daysToExpiry  lifeTime  ct  \n",
       "7572729 -10.161210  127294298    2548.872340          1087      1087   1  \n",
       "7580461 -10.559520  127294298    2570.205534          1086      1087   1  \n",
       "7588125 -10.419860  127294298    2565.769114          1085      1087   1  \n",
       "7595927  -9.803896  127294298    2600.503990          1082      1087   1  \n",
       "7603604  -9.375538  127294298    2604.869839          1080      1087   1  "
      ]
     },
     "execution_count": 211,
     "metadata": {},
     "output_type": "execute_result"
    }
   ],
   "source": [
    "df[df['optionid'] == obj[obj == mx].index[0]].head()"
   ]
  },
  {
   "cell_type": "code",
   "execution_count": 212,
   "metadata": {},
   "outputs": [
    {
     "data": {
      "text/plain": [
       "715"
      ]
     },
     "execution_count": 212,
     "metadata": {},
     "output_type": "execute_result"
    }
   ],
   "source": [
    "obj = df[df['exdate'] <= df['date'].max()].groupby('optionid')['daysToExpiry'].min()\n",
    "mx = obj.max()\n",
    "mx"
   ]
  },
  {
   "cell_type": "code",
   "execution_count": 213,
   "metadata": {},
   "outputs": [
    {
     "data": {
      "text/plain": [
       "optionid\n",
       "31622275    715\n",
       "Name: daysToExpiry, dtype: int64"
      ]
     },
     "execution_count": 213,
     "metadata": {},
     "output_type": "execute_result"
    }
   ],
   "source": [
    "obj[obj == mx]"
   ]
  },
  {
   "cell_type": "code",
   "execution_count": 187,
   "metadata": {},
   "outputs": [
    {
     "data": {
      "text/html": [
       "<div>\n",
       "<style scoped>\n",
       "    .dataframe tbody tr th:only-of-type {\n",
       "        vertical-align: middle;\n",
       "    }\n",
       "\n",
       "    .dataframe tbody tr th {\n",
       "        vertical-align: top;\n",
       "    }\n",
       "\n",
       "    .dataframe thead th {\n",
       "        text-align: right;\n",
       "    }\n",
       "</style>\n",
       "<table border=\"1\" class=\"dataframe\">\n",
       "  <thead>\n",
       "    <tr style=\"text-align: right;\">\n",
       "      <th></th>\n",
       "      <th>date</th>\n",
       "      <th>exdate</th>\n",
       "      <th>last_date</th>\n",
       "      <th>strike_price</th>\n",
       "      <th>best_bid</th>\n",
       "      <th>best_offer</th>\n",
       "      <th>volume</th>\n",
       "      <th>open_interest</th>\n",
       "      <th>impl_volatility</th>\n",
       "      <th>delta</th>\n",
       "      <th>gamma</th>\n",
       "      <th>vega</th>\n",
       "      <th>theta</th>\n",
       "      <th>optionid</th>\n",
       "      <th>forward_price</th>\n",
       "      <th>daysToExpiry</th>\n",
       "      <th>lifeTime</th>\n",
       "      <th>ct</th>\n",
       "    </tr>\n",
       "  </thead>\n",
       "  <tbody>\n",
       "    <tr>\n",
       "      <th>288542</th>\n",
       "      <td>2004-06-28</td>\n",
       "      <td>2006-06-17</td>\n",
       "      <td>20040628.0</td>\n",
       "      <td>1115000</td>\n",
       "      <td>84.7</td>\n",
       "      <td>88.7</td>\n",
       "      <td>100</td>\n",
       "      <td>10631</td>\n",
       "      <td>0.186653</td>\n",
       "      <td>-0.362154</td>\n",
       "      <td>0.001239</td>\n",
       "      <td>583.3969</td>\n",
       "      <td>-17.78302</td>\n",
       "      <td>31622275</td>\n",
       "      <td>1172.446159</td>\n",
       "      <td>719</td>\n",
       "      <td>719</td>\n",
       "      <td>1</td>\n",
       "    </tr>\n",
       "    <tr>\n",
       "      <th>288817</th>\n",
       "      <td>2004-06-29</td>\n",
       "      <td>2006-06-17</td>\n",
       "      <td>20040629.0</td>\n",
       "      <td>1115000</td>\n",
       "      <td>81.6</td>\n",
       "      <td>85.6</td>\n",
       "      <td>40</td>\n",
       "      <td>2</td>\n",
       "      <td>0.182844</td>\n",
       "      <td>-0.358732</td>\n",
       "      <td>0.001259</td>\n",
       "      <td>582.7842</td>\n",
       "      <td>-17.47740</td>\n",
       "      <td>31622275</td>\n",
       "      <td>1174.919843</td>\n",
       "      <td>718</td>\n",
       "      <td>719</td>\n",
       "      <td>1</td>\n",
       "    </tr>\n",
       "    <tr>\n",
       "      <th>289094</th>\n",
       "      <td>2004-06-30</td>\n",
       "      <td>2006-06-17</td>\n",
       "      <td>20040629.0</td>\n",
       "      <td>1115000</td>\n",
       "      <td>83.2</td>\n",
       "      <td>83.7</td>\n",
       "      <td>0</td>\n",
       "      <td>92</td>\n",
       "      <td>0.183636</td>\n",
       "      <td>-0.356319</td>\n",
       "      <td>0.001246</td>\n",
       "      <td>583.5762</td>\n",
       "      <td>-18.25211</td>\n",
       "      <td>31622275</td>\n",
       "      <td>1177.082994</td>\n",
       "      <td>717</td>\n",
       "      <td>719</td>\n",
       "      <td>1</td>\n",
       "    </tr>\n",
       "    <tr>\n",
       "      <th>289290</th>\n",
       "      <td>2004-07-01</td>\n",
       "      <td>2006-06-17</td>\n",
       "      <td>20040701.0</td>\n",
       "      <td>1115000</td>\n",
       "      <td>86.0</td>\n",
       "      <td>90.0</td>\n",
       "      <td>50</td>\n",
       "      <td>95</td>\n",
       "      <td>0.182954</td>\n",
       "      <td>-0.373285</td>\n",
       "      <td>0.001284</td>\n",
       "      <td>585.7026</td>\n",
       "      <td>-18.25056</td>\n",
       "      <td>31622275</td>\n",
       "      <td>1163.283931</td>\n",
       "      <td>716</td>\n",
       "      <td>719</td>\n",
       "      <td>1</td>\n",
       "    </tr>\n",
       "    <tr>\n",
       "      <th>289573</th>\n",
       "      <td>2004-07-02</td>\n",
       "      <td>2006-06-17</td>\n",
       "      <td>20040701.0</td>\n",
       "      <td>1115000</td>\n",
       "      <td>89.7</td>\n",
       "      <td>93.7</td>\n",
       "      <td>0</td>\n",
       "      <td>142</td>\n",
       "      <td>0.184864</td>\n",
       "      <td>-0.381652</td>\n",
       "      <td>0.001284</td>\n",
       "      <td>587.2330</td>\n",
       "      <td>-19.07706</td>\n",
       "      <td>31622275</td>\n",
       "      <td>1156.701283</td>\n",
       "      <td>715</td>\n",
       "      <td>719</td>\n",
       "      <td>1</td>\n",
       "    </tr>\n",
       "  </tbody>\n",
       "</table>\n",
       "</div>"
      ],
      "text/plain": [
       "             date     exdate   last_date  strike_price  best_bid  best_offer  \\\n",
       "288542 2004-06-28 2006-06-17  20040628.0       1115000      84.7        88.7   \n",
       "288817 2004-06-29 2006-06-17  20040629.0       1115000      81.6        85.6   \n",
       "289094 2004-06-30 2006-06-17  20040629.0       1115000      83.2        83.7   \n",
       "289290 2004-07-01 2006-06-17  20040701.0       1115000      86.0        90.0   \n",
       "289573 2004-07-02 2006-06-17  20040701.0       1115000      89.7        93.7   \n",
       "\n",
       "        volume  open_interest  impl_volatility     delta     gamma      vega  \\\n",
       "288542     100          10631         0.186653 -0.362154  0.001239  583.3969   \n",
       "288817      40              2         0.182844 -0.358732  0.001259  582.7842   \n",
       "289094       0             92         0.183636 -0.356319  0.001246  583.5762   \n",
       "289290      50             95         0.182954 -0.373285  0.001284  585.7026   \n",
       "289573       0            142         0.184864 -0.381652  0.001284  587.2330   \n",
       "\n",
       "           theta  optionid  forward_price  daysToExpiry  lifeTime  ct  \n",
       "288542 -17.78302  31622275    1172.446159           719       719   1  \n",
       "288817 -17.47740  31622275    1174.919843           718       719   1  \n",
       "289094 -18.25211  31622275    1177.082994           717       719   1  \n",
       "289290 -18.25056  31622275    1163.283931           716       719   1  \n",
       "289573 -19.07706  31622275    1156.701283           715       719   1  "
      ]
     },
     "execution_count": 187,
     "metadata": {},
     "output_type": "execute_result"
    }
   ],
   "source": [
    "df[df['optionid'] == mx.index[0]]"
   ]
  },
  {
   "cell_type": "markdown",
   "metadata": {},
   "source": [
    "### Robustness Tests\n",
    "\n",
    "Although it gained us ~177k data points (assuming we were going to otherwise drop them), this does not seem to get us back all the available data. We have a few options\n",
    "1. Just keep them and treat them as independent data points (in this case we cannot guarantee uniqueness to the `(date, exdate, strike_price, lifeTime)` level.) \n",
    "2. Drop them and potentially merge them back in\n",
    "  - We could outright drop anything that's duplicated\n",
    "  - We could look at duplicates and select one security\n",
    "      * The combined liquidity product (take total `volume`, `open_interest`, maximum `best_bid`, minimum `best_ask`)\n",
    "      * The minimum liquidity product (take minimum `volume` product and its associated `open_interest`, `best_bid` and `best_ask`)\n",
    "      * The maximum liquidity product (take maximum `volume` product and its associated `open_interest`, `best_bid` and `best_ask`)\n",
    "\n",
    "We will implement all of these and create a data loader that lets us separate loading the data and running the analysis. If we require an analysis where `(date, exdate, strike_price, lifeTime)` must be unique we must pass `drop = False` in our data loader. "
   ]
  },
  {
   "cell_type": "code",
   "execution_count": 203,
   "metadata": {},
   "outputs": [],
   "source": [
    "df_ct = df.groupby(['date','exdate','strike_price','lifeTime'])['volume'].count().reset_index().rename(\n",
    "    {'volume':'ct'},axis=1)\n",
    "df = df.merge(df_ct, how = 'left', on = ['date','exdate','strike_price','lifeTime'], validate = 'm:1')"
   ]
  },
  {
   "cell_type": "code",
   "execution_count": 204,
   "metadata": {},
   "outputs": [
    {
     "name": "stdout",
     "output_type": "stream",
     "text": [
      "7573504\n",
      "7573504\n"
     ]
    }
   ],
   "source": [
    "df_outright_drop = df[df['ct'] == 1].copy()\n",
    "print(len(df_outright_drop))\n",
    "print(len(df_outright_drop[['date','exdate','strike_price','lifeTime']].drop_duplicates()))"
   ]
  },
  {
   "cell_type": "code",
   "execution_count": null,
   "metadata": {},
   "outputs": [],
   "source": [
    "field_map = {'volume':'sum','open_interest':'sum','best_bid',:'max','best_ask':'min'}\n",
    "df_mrg_liquidity = df.groupby(['date','exdate','strike_price','lifeTime']).agg()"
   ]
  },
  {
   "cell_type": "code",
   "execution_count": null,
   "metadata": {},
   "outputs": [],
   "source": []
  },
  {
   "cell_type": "code",
   "execution_count": 122,
   "metadata": {},
   "outputs": [
    {
     "data": {
      "text/html": [
       "<div>\n",
       "<style scoped>\n",
       "    .dataframe tbody tr th:only-of-type {\n",
       "        vertical-align: middle;\n",
       "    }\n",
       "\n",
       "    .dataframe tbody tr th {\n",
       "        vertical-align: top;\n",
       "    }\n",
       "\n",
       "    .dataframe thead th {\n",
       "        text-align: right;\n",
       "    }\n",
       "</style>\n",
       "<table border=\"1\" class=\"dataframe\">\n",
       "  <thead>\n",
       "    <tr style=\"text-align: right;\">\n",
       "      <th></th>\n",
       "      <th>5110923</th>\n",
       "      <th>5114564</th>\n",
       "      <th>5110925</th>\n",
       "      <th>5110927</th>\n",
       "    </tr>\n",
       "  </thead>\n",
       "  <tbody>\n",
       "    <tr>\n",
       "      <th>date</th>\n",
       "      <td>2017-05-03 00:00:00</td>\n",
       "      <td>2017-05-03 00:00:00</td>\n",
       "      <td>2017-05-03 00:00:00</td>\n",
       "      <td>2017-05-03 00:00:00</td>\n",
       "    </tr>\n",
       "    <tr>\n",
       "      <th>exdate</th>\n",
       "      <td>2017-07-21 00:00:00</td>\n",
       "      <td>2017-07-21 00:00:00</td>\n",
       "      <td>2017-07-21 00:00:00</td>\n",
       "      <td>2017-07-21 00:00:00</td>\n",
       "    </tr>\n",
       "    <tr>\n",
       "      <th>last_date</th>\n",
       "      <td>2.01705e+07</td>\n",
       "      <td>2.01705e+07</td>\n",
       "      <td>2.01705e+07</td>\n",
       "      <td>2.01705e+07</td>\n",
       "    </tr>\n",
       "    <tr>\n",
       "      <th>strike_price</th>\n",
       "      <td>1995000</td>\n",
       "      <td>1995000</td>\n",
       "      <td>2005000</td>\n",
       "      <td>2015000</td>\n",
       "    </tr>\n",
       "    <tr>\n",
       "      <th>best_bid</th>\n",
       "      <td>3.3</td>\n",
       "      <td>3.4</td>\n",
       "      <td>3.4</td>\n",
       "      <td>3.6</td>\n",
       "    </tr>\n",
       "    <tr>\n",
       "      <th>best_offer</th>\n",
       "      <td>3.7</td>\n",
       "      <td>3.6</td>\n",
       "      <td>3.9</td>\n",
       "      <td>4.1</td>\n",
       "    </tr>\n",
       "    <tr>\n",
       "      <th>volume</th>\n",
       "      <td>93</td>\n",
       "      <td>30</td>\n",
       "      <td>108</td>\n",
       "      <td>891</td>\n",
       "    </tr>\n",
       "    <tr>\n",
       "      <th>open_interest</th>\n",
       "      <td>0</td>\n",
       "      <td>0</td>\n",
       "      <td>0</td>\n",
       "      <td>0</td>\n",
       "    </tr>\n",
       "    <tr>\n",
       "      <th>impl_volatility</th>\n",
       "      <td>0.219788</td>\n",
       "      <td>0.218382</td>\n",
       "      <td>0.216376</td>\n",
       "      <td>0.213412</td>\n",
       "    </tr>\n",
       "    <tr>\n",
       "      <th>delta</th>\n",
       "      <td>-0.035091</td>\n",
       "      <td>-0.035093</td>\n",
       "      <td>-0.036912</td>\n",
       "      <td>-0.039143</td>\n",
       "    </tr>\n",
       "    <tr>\n",
       "      <th>gamma</th>\n",
       "      <td>0.000319</td>\n",
       "      <td>0.000319</td>\n",
       "      <td>0.000338</td>\n",
       "      <td>0.000359</td>\n",
       "    </tr>\n",
       "    <tr>\n",
       "      <th>vega</th>\n",
       "      <td>85.428</td>\n",
       "      <td>85.9759</td>\n",
       "      <td>89.0414</td>\n",
       "      <td>93.4073</td>\n",
       "    </tr>\n",
       "    <tr>\n",
       "      <th>theta</th>\n",
       "      <td>-44.3705</td>\n",
       "      <td>-43.8122</td>\n",
       "      <td>-45.541</td>\n",
       "      <td>-47.1317</td>\n",
       "    </tr>\n",
       "    <tr>\n",
       "      <th>optionid</th>\n",
       "      <td>115785072</td>\n",
       "      <td>115785286</td>\n",
       "      <td>115785073</td>\n",
       "      <td>115785074</td>\n",
       "    </tr>\n",
       "    <tr>\n",
       "      <th>forward_price</th>\n",
       "      <td>2385.2</td>\n",
       "      <td>2385.17</td>\n",
       "      <td>2385.2</td>\n",
       "      <td>2385.2</td>\n",
       "    </tr>\n",
       "    <tr>\n",
       "      <th>daysToExpiry</th>\n",
       "      <td>79</td>\n",
       "      <td>79</td>\n",
       "      <td>79</td>\n",
       "      <td>79</td>\n",
       "    </tr>\n",
       "    <tr>\n",
       "      <th>lifeTime</th>\n",
       "      <td>79</td>\n",
       "      <td>79</td>\n",
       "      <td>79</td>\n",
       "      <td>79</td>\n",
       "    </tr>\n",
       "    <tr>\n",
       "      <th>ct</th>\n",
       "      <td>2</td>\n",
       "      <td>2</td>\n",
       "      <td>2</td>\n",
       "      <td>2</td>\n",
       "    </tr>\n",
       "  </tbody>\n",
       "</table>\n",
       "</div>"
      ],
      "text/plain": [
       "                             5110923              5114564  \\\n",
       "date             2017-05-03 00:00:00  2017-05-03 00:00:00   \n",
       "exdate           2017-07-21 00:00:00  2017-07-21 00:00:00   \n",
       "last_date                2.01705e+07          2.01705e+07   \n",
       "strike_price                 1995000              1995000   \n",
       "best_bid                         3.3                  3.4   \n",
       "best_offer                       3.7                  3.6   \n",
       "volume                            93                   30   \n",
       "open_interest                      0                    0   \n",
       "impl_volatility             0.219788             0.218382   \n",
       "delta                      -0.035091            -0.035093   \n",
       "gamma                       0.000319             0.000319   \n",
       "vega                          85.428              85.9759   \n",
       "theta                       -44.3705             -43.8122   \n",
       "optionid                   115785072            115785286   \n",
       "forward_price                 2385.2              2385.17   \n",
       "daysToExpiry                      79                   79   \n",
       "lifeTime                          79                   79   \n",
       "ct                                 2                    2   \n",
       "\n",
       "                             5110925              5110927  \n",
       "date             2017-05-03 00:00:00  2017-05-03 00:00:00  \n",
       "exdate           2017-07-21 00:00:00  2017-07-21 00:00:00  \n",
       "last_date                2.01705e+07          2.01705e+07  \n",
       "strike_price                 2005000              2015000  \n",
       "best_bid                         3.4                  3.6  \n",
       "best_offer                       3.9                  4.1  \n",
       "volume                           108                  891  \n",
       "open_interest                      0                    0  \n",
       "impl_volatility             0.216376             0.213412  \n",
       "delta                      -0.036912            -0.039143  \n",
       "gamma                       0.000338             0.000359  \n",
       "vega                         89.0414              93.4073  \n",
       "theta                        -45.541             -47.1317  \n",
       "optionid                   115785073            115785074  \n",
       "forward_price                 2385.2               2385.2  \n",
       "daysToExpiry                      79                   79  \n",
       "lifeTime                          79                   79  \n",
       "ct                                 2                    2  "
      ]
     },
     "execution_count": 122,
     "metadata": {},
     "output_type": "execute_result"
    }
   ],
   "source": [
    "df[(df['ct'] == 2)&(df['volume']>0)].sort_values(['date','exdate','strike_price','lifeTime']).head(4).T"
   ]
  },
  {
   "cell_type": "code",
   "execution_count": 127,
   "metadata": {},
   "outputs": [],
   "source": [
    "obj1 = df[df['ct'] == 2].groupby(['date','exdate','strike_price','lifeTime'])['volume'].min()\n",
    "obj2 = df[df['ct'] == 2].groupby(['date','exdate','strike_price','lifeTime'])['volume'].max()"
   ]
  },
  {
   "cell_type": "code",
   "execution_count": 133,
   "metadata": {},
   "outputs": [
    {
     "data": {
      "text/plain": [
       "True     347465\n",
       "False     97047\n",
       "Name: volume, dtype: int64"
      ]
     },
     "execution_count": 133,
     "metadata": {},
     "output_type": "execute_result"
    }
   ],
   "source": [
    "(obj1==0).value_counts()"
   ]
  },
  {
   "cell_type": "code",
   "execution_count": null,
   "metadata": {},
   "outputs": [],
   "source": []
  },
  {
   "cell_type": "code",
   "execution_count": 148,
   "metadata": {},
   "outputs": [
    {
     "data": {
      "text/plain": [
       "date        exdate      strike_price  lifeTime\n",
       "2018-12-12  2018-12-21  2540000       123         20321\n",
       "2018-11-15  2018-11-16  2700000       116         11495\n",
       "2018-09-20  2018-09-21  2900000       368         10381\n",
       "2019-05-16  2019-05-17  2850000       115         10284\n",
       "2018-09-20  2018-09-21  2925000       246         10272\n",
       "                                                  ...  \n",
       "2018-06-01  2018-08-17  2750000       116             0\n",
       "                        2760000       116             0\n",
       "                        2770000       116             0\n",
       "                        2780000       116             0\n",
       "2019-06-28  2019-11-15  3000000       179             0\n",
       "Name: volume, Length: 205792, dtype: int64"
      ]
     },
     "execution_count": 148,
     "metadata": {},
     "output_type": "execute_result"
    }
   ],
   "source": [
    "obj1[obj2 > obj1].sort_values(ascending=False)"
   ]
  },
  {
   "cell_type": "code",
   "execution_count": 155,
   "metadata": {},
   "outputs": [
    {
     "data": {
      "text/plain": [
       "20334"
      ]
     },
     "execution_count": 155,
     "metadata": {},
     "output_type": "execute_result"
    }
   ],
   "source": [
    "obj2['2018-12-12','2018-12-21',2540000,123]"
   ]
  },
  {
   "cell_type": "code",
   "execution_count": 145,
   "metadata": {},
   "outputs": [
    {
     "data": {
      "text/plain": [
       "date        exdate      strike_price  lifeTime\n",
       "2018-02-15  2018-02-16  2700000       116         9906\n",
       "2018-04-02  2018-05-18  2250000       116           12\n",
       "2018-04-19  2018-04-20  2700000       123         2930\n",
       "2018-04-25  2018-05-18  2350000       116          104\n",
       "2018-05-11  2018-07-20  2470000       123            0\n",
       "2018-07-19  2018-08-17  2650000       116          101\n",
       "2018-09-13  2018-10-19  2600000       123           29\n",
       "2018-09-14  2018-09-21  2175000       368            0\n",
       "2018-10-30  2018-11-16  2450000       116           75\n",
       "2018-11-30  2018-12-21  2560000       123          182\n",
       "2018-12-07  2018-12-21  2590000       123          150\n",
       "2018-12-14  2018-12-21  2640000       123          138\n",
       "2018-12-19  2019-01-18  2330000       116            2\n",
       "2018-12-20  2019-01-18  2280000       116           38\n",
       "2019-06-20  2019-07-19  2200000       150          477\n",
       "Name: volume, dtype: int64"
      ]
     },
     "execution_count": 145,
     "metadata": {},
     "output_type": "execute_result"
    }
   ],
   "source": [
    "obj1[obj2 > obj1 + 40000]"
   ]
  },
  {
   "cell_type": "code",
   "execution_count": 144,
   "metadata": {},
   "outputs": [
    {
     "data": {
      "text/plain": [
       "date        exdate      strike_price  lifeTime\n",
       "2018-02-15  2018-02-16  2700000       116         58853\n",
       "2018-04-02  2018-05-18  2250000       116         41895\n",
       "2018-04-19  2018-04-20  2700000       123         43829\n",
       "2018-04-25  2018-05-18  2350000       116         42692\n",
       "2018-05-11  2018-07-20  2470000       123         40026\n",
       "2018-07-19  2018-08-17  2650000       116         40584\n",
       "2018-09-13  2018-10-19  2600000       123         42153\n",
       "2018-09-14  2018-09-21  2175000       368         43070\n",
       "2018-10-30  2018-11-16  2450000       116         45639\n",
       "2018-11-30  2018-12-21  2560000       123         40807\n",
       "2018-12-07  2018-12-21  2590000       123         40434\n",
       "2018-12-14  2018-12-21  2640000       123         40640\n",
       "2018-12-19  2019-01-18  2330000       116         40028\n",
       "2018-12-20  2019-01-18  2280000       116         40378\n",
       "2019-06-20  2019-07-19  2200000       150         68793\n",
       "Name: volume, dtype: int64"
      ]
     },
     "execution_count": 144,
     "metadata": {},
     "output_type": "execute_result"
    }
   ],
   "source": [
    "obj2[obj2 > obj1 + 40000]"
   ]
  },
  {
   "cell_type": "code",
   "execution_count": 135,
   "metadata": {},
   "outputs": [
    {
     "data": {
      "text/plain": [
       "count    444512.000000\n",
       "mean        209.220536\n",
       "std        1153.727392\n",
       "min           0.000000\n",
       "25%           0.000000\n",
       "50%           0.000000\n",
       "75%          24.000000\n",
       "max       68316.000000\n",
       "Name: volume, dtype: float64"
      ]
     },
     "execution_count": 135,
     "metadata": {},
     "output_type": "execute_result"
    }
   ],
   "source": [
    "(obj2 - obj1).describe()"
   ]
  },
  {
   "cell_type": "code",
   "execution_count": null,
   "metadata": {},
   "outputs": [],
   "source": []
  },
  {
   "cell_type": "code",
   "execution_count": 131,
   "metadata": {},
   "outputs": [
    {
     "data": {
      "text/plain": [
       "True     238720\n",
       "False    205792\n",
       "Name: volume, dtype: int64"
      ]
     },
     "execution_count": 131,
     "metadata": {},
     "output_type": "execute_result"
    }
   ],
   "source": [
    "(obj2 == obj1)"
   ]
  },
  {
   "cell_type": "code",
   "execution_count": 160,
   "metadata": {},
   "outputs": [
    {
     "data": {
      "text/html": [
       "<div>\n",
       "<style scoped>\n",
       "    .dataframe tbody tr th:only-of-type {\n",
       "        vertical-align: middle;\n",
       "    }\n",
       "\n",
       "    .dataframe tbody tr th {\n",
       "        vertical-align: top;\n",
       "    }\n",
       "\n",
       "    .dataframe thead th {\n",
       "        text-align: right;\n",
       "    }\n",
       "</style>\n",
       "<table border=\"1\" class=\"dataframe\">\n",
       "  <thead>\n",
       "    <tr style=\"text-align: right;\">\n",
       "      <th></th>\n",
       "      <th>date</th>\n",
       "      <th>exdate</th>\n",
       "      <th>strike_price</th>\n",
       "      <th>best_bid</th>\n",
       "      <th>best_ask</th>\n",
       "      <th>volume</th>\n",
       "      <th>open_interest</th>\n",
       "      <th>optionid</th>\n",
       "      <th>daysToExpiry</th>\n",
       "      <th>lifeTime</th>\n",
       "    </tr>\n",
       "  </thead>\n",
       "  <tbody>\n",
       "    <tr>\n",
       "      <th>0</th>\n",
       "      <td>2000-01-03</td>\n",
       "      <td>2000-03-18</td>\n",
       "      <td>1410000</td>\n",
       "      <td>36.750</td>\n",
       "      <td>38.750</td>\n",
       "      <td>0</td>\n",
       "      <td>1</td>\n",
       "      <td>10120210</td>\n",
       "      <td>75</td>\n",
       "      <td>75</td>\n",
       "    </tr>\n",
       "    <tr>\n",
       "      <th>1</th>\n",
       "      <td>2000-01-03</td>\n",
       "      <td>2000-01-22</td>\n",
       "      <td>1505000</td>\n",
       "      <td>55.250</td>\n",
       "      <td>57.250</td>\n",
       "      <td>0</td>\n",
       "      <td>50</td>\n",
       "      <td>10000760</td>\n",
       "      <td>19</td>\n",
       "      <td>19</td>\n",
       "    </tr>\n",
       "    <tr>\n",
       "      <th>2</th>\n",
       "      <td>2000-01-03</td>\n",
       "      <td>2000-06-17</td>\n",
       "      <td>1350000</td>\n",
       "      <td>40.750</td>\n",
       "      <td>42.750</td>\n",
       "      <td>290</td>\n",
       "      <td>14570</td>\n",
       "      <td>10016917</td>\n",
       "      <td>166</td>\n",
       "      <td>166</td>\n",
       "    </tr>\n",
       "    <tr>\n",
       "      <th>3</th>\n",
       "      <td>2000-01-03</td>\n",
       "      <td>2000-01-22</td>\n",
       "      <td>1500000</td>\n",
       "      <td>51.625</td>\n",
       "      <td>53.625</td>\n",
       "      <td>57</td>\n",
       "      <td>505</td>\n",
       "      <td>10149633</td>\n",
       "      <td>19</td>\n",
       "      <td>19</td>\n",
       "    </tr>\n",
       "    <tr>\n",
       "      <th>4</th>\n",
       "      <td>2000-01-03</td>\n",
       "      <td>2000-01-22</td>\n",
       "      <td>1540000</td>\n",
       "      <td>84.875</td>\n",
       "      <td>86.875</td>\n",
       "      <td>0</td>\n",
       "      <td>0</td>\n",
       "      <td>10056576</td>\n",
       "      <td>19</td>\n",
       "      <td>19</td>\n",
       "    </tr>\n",
       "  </tbody>\n",
       "</table>\n",
       "</div>"
      ],
      "text/plain": [
       "        date     exdate  strike_price  best_bid  best_ask  volume  \\\n",
       "0 2000-01-03 2000-03-18       1410000    36.750    38.750       0   \n",
       "1 2000-01-03 2000-01-22       1505000    55.250    57.250       0   \n",
       "2 2000-01-03 2000-06-17       1350000    40.750    42.750     290   \n",
       "3 2000-01-03 2000-01-22       1500000    51.625    53.625      57   \n",
       "4 2000-01-03 2000-01-22       1540000    84.875    86.875       0   \n",
       "\n",
       "   open_interest  optionid  daysToExpiry  lifeTime  \n",
       "0              1  10120210            75        75  \n",
       "1             50  10000760            19        19  \n",
       "2          14570  10016917           166       166  \n",
       "3            505  10149633            19        19  \n",
       "4              0  10056576            19        19  "
      ]
     },
     "execution_count": 160,
     "metadata": {},
     "output_type": "execute_result"
    }
   ],
   "source": [
    "df = pd.read_csv('./dat/spx_option_prices.csv')\n",
    "df = df[['date','exdate','strike_price','best_bid','best_offer','volume','open_interest','optionid']]\n",
    "df.rename({'best_offer':'best_ask'}, axis = 1, inplace = True)\n",
    "\n",
    "df['exdate'] = pd.to_datetime(df['exdate'].astype(str))\n",
    "df['date'] = pd.to_datetime(df['date'].astype(str))\n",
    "\n",
    "df['daysToExpiry'] = ((df['exdate'] - df['date']).astype(int)/1e9/3600/24).astype(int)\n",
    "\n",
    "df_lt = df.groupby('optionid')['daysToExpiry'].max().reset_index().rename(\n",
    "    {'daysToExpiry':'lifeTime'},axis=1)\n",
    "df = df.merge(df_lt, how = 'left', on = 'optionid', validate = 'm:1')\n",
    "\n",
    "df.head()"
   ]
  },
  {
   "cell_type": "code",
   "execution_count": null,
   "metadata": {},
   "outputs": [],
   "source": [
    "robustness_choice = ['drop','add','max','min','avg']"
   ]
  },
  {
   "cell_type": "code",
   "execution_count": null,
   "metadata": {},
   "outputs": [],
   "source": [
    "drop_dups = True\n",
    "agg_dups = 'sum' # 'max','min'"
   ]
  },
  {
   "cell_type": "code",
   "execution_count": null,
   "metadata": {},
   "outputs": [],
   "source": [
    "df_ct = df.groupby(['date','exdate','strike_price','lifeTime'])['volume']\n",
    "df_ct = df_ct.count().reset_index().rename({'volume':'ct'},axis=1)\n",
    "\n",
    "df = df.merge(df_ct, how = 'left', on = ['date','exdate','strike_price','lifeTime'], validate = 'm:1')\n",
    "\n",
    "if drop_dups:\n",
    "    df = df[df['ct'] == 1].drop('ct', axis=1)\n",
    "else:\n",
    "    \n",
    "    "
   ]
  },
  {
   "cell_type": "code",
   "execution_count": null,
   "metadata": {},
   "outputs": [],
   "source": []
  },
  {
   "cell_type": "code",
   "execution_count": null,
   "metadata": {},
   "outputs": [],
   "source": [
    "dd_agg = {'best_bid':\n",
    "         'best_offer':\n",
    "         'volume':\n",
    "         'open_interest':}\n",
    "\n",
    "\n",
    "df.groupby(['date','exdate','strike_price','lifeTime','daysToExpiry']).agg(dd_agg)"
   ]
  },
  {
   "cell_type": "code",
   "execution_count": null,
   "metadata": {},
   "outputs": [],
   "source": [
    "df[['date','exdate','strike_price','lifeTime']]"
   ]
  },
  {
   "cell_type": "code",
   "execution_count": 123,
   "metadata": {},
   "outputs": [
    {
     "data": {
      "text/plain": [
       "1095"
      ]
     },
     "execution_count": 123,
     "metadata": {},
     "output_type": "execute_result"
    }
   ],
   "source": [
    "df['lifeTime'].max()"
   ]
  },
  {
   "cell_type": "code",
   "execution_count": 119,
   "metadata": {},
   "outputs": [
    {
     "data": {
      "text/plain": [
       "8018016.0"
      ]
     },
     "execution_count": 119,
     "metadata": {},
     "output_type": "execute_result"
    }
   ],
   "source": [
    "889024 / 2 + 7573504"
   ]
  },
  {
   "cell_type": "code",
   "execution_count": null,
   "metadata": {},
   "outputs": [],
   "source": []
  },
  {
   "cell_type": "code",
   "execution_count": null,
   "metadata": {},
   "outputs": [],
   "source": []
  },
  {
   "cell_type": "code",
   "execution_count": null,
   "metadata": {},
   "outputs": [],
   "source": []
  }
 ],
 "metadata": {
  "kernelspec": {
   "display_name": "Python 3",
   "language": "python",
   "name": "python3"
  },
  "language_info": {
   "codemirror_mode": {
    "name": "ipython",
    "version": 3
   },
   "file_extension": ".py",
   "mimetype": "text/x-python",
   "name": "python",
   "nbconvert_exporter": "python",
   "pygments_lexer": "ipython3",
   "version": "3.6.11"
  }
 },
 "nbformat": 4,
 "nbformat_minor": 4
}

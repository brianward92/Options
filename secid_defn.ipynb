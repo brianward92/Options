{
 "cells": [
  {
   "cell_type": "markdown",
   "metadata": {},
   "source": [
    "# Data Loader\n",
    "\n",
    "Prototyping and writing a data loader function."
   ]
  },
  {
   "cell_type": "markdown",
   "metadata": {},
   "source": [
    "### Import Data\n",
    "\n",
    "And clean dates into `pd.DateTime` and rename `best_offer` to `best_ask` (string name is thus the same length as `best_bid`.)"
   ]
  },
  {
   "cell_type": "code",
   "execution_count": 1,
   "metadata": {},
   "outputs": [],
   "source": [
    "import pandas as pd\n",
    "\n",
    "df = pd.read_csv('./dat/spx_option_prices.csv')\n",
    "df['exdate'] = pd.to_datetime(df['exdate'].astype(str))\n",
    "df['date'] = pd.to_datetime(df['date'].astype(str))\n",
    "df.rename({'best_offer':'best_ask'}, axis = 1, inplace = True)"
   ]
  },
  {
   "cell_type": "markdown",
   "metadata": {},
   "source": [
    "### Simplify Dataset\n",
    "\n",
    "There are a few columns that would never be needed because they do not even vary. There are additional columns giving the option greeks, but I think I'll also omit those too later on. "
   ]
  },
  {
   "cell_type": "code",
   "execution_count": 2,
   "metadata": {},
   "outputs": [
    {
     "name": "stdout",
     "output_type": "stream",
     "text": [
      "[108105]\n",
      "['P']\n",
      "[1]\n",
      "['CBOE S&P 500 INDEX']\n",
      "['E']\n"
     ]
    }
   ],
   "source": [
    "for col in ['secid','cp_flag','index_flag','issuer','exercise_style']:\n",
    "    print(df[col].unique())\n",
    "    del df[col]"
   ]
  },
  {
   "cell_type": "markdown",
   "metadata": {},
   "source": [
    "### Add Column for `daysToExpiry`\n",
    "\n",
    "`daysToExpiry` is probably clear."
   ]
  },
  {
   "cell_type": "code",
   "execution_count": 3,
   "metadata": {},
   "outputs": [
    {
     "data": {
      "text/plain": [
       "0"
      ]
     },
     "execution_count": 3,
     "metadata": {},
     "output_type": "execute_result"
    }
   ],
   "source": [
    "df['daysToExpiry'] = ((df['exdate'] - df['date']).astype(int)/1e9/3600/24).astype(int)\n",
    "df['daysToExpiry'].min()"
   ]
  },
  {
   "cell_type": "markdown",
   "metadata": {},
   "source": [
    "### Add Column for `lifeTime`\n",
    "\n",
    "There is a unique key in the dataset called `optionid`. It is unique in the sense that for every `(date, optionid)` there is exactly 1 row in our dataset. However, the properties of an option are determined by the strike price (`strike_price`) and expiry date (`exdate`) because otherwise, the timing and cash flows are exactly the same. Thus, we expected `optionid` to `1:1` with `(exdate, strike_price)`. However, the following shows that `(date, exdate, strike_price)` have multiple rows associated with them.\n",
    "\n",
    "My guess is that there is some pair of weekly, monthly, and quarterly options in which both option styles have the same expiration date. To try to approximate that, we look at the option's `lifeTime` which is the maximum date until expiry. "
   ]
  },
  {
   "cell_type": "code",
   "execution_count": 4,
   "metadata": {},
   "outputs": [
    {
     "name": "stdout",
     "output_type": "stream",
     "text": [
      "8462528\n",
      "7841799\n"
     ]
    }
   ],
   "source": [
    "print(len(df))\n",
    "print(len(df[['date','exdate','strike_price']].drop_duplicates()))"
   ]
  },
  {
   "cell_type": "code",
   "execution_count": 5,
   "metadata": {},
   "outputs": [],
   "source": [
    "df_lt = df.groupby('optionid')['daysToExpiry'].max().reset_index().rename(\n",
    "    {'daysToExpiry':'lifeTime'},axis=1)\n",
    "df = df.merge(df_lt, how = 'left', on = 'optionid', validate = 'm:1')"
   ]
  },
  {
   "cell_type": "code",
   "execution_count": 6,
   "metadata": {},
   "outputs": [
    {
     "name": "stdout",
     "output_type": "stream",
     "text": [
      "8462528\n",
      "8018016\n"
     ]
    }
   ],
   "source": [
    "print(len(df))\n",
    "print(len(df[['date','exdate','strike_price','lifeTime']].drop_duplicates()))"
   ]
  },
  {
   "cell_type": "markdown",
   "metadata": {},
   "source": [
    "### \"Delisted Options\"\n",
    "\n",
    "Some options have a minimum `daysToExpiry` greater than 0 in our dataset. In other words, the dataset contains options which have not yet expired. That makes sense if the `exdate` is greater than or equal to the maximum `date` in the dataset. "
   ]
  },
  {
   "cell_type": "code",
   "execution_count": 7,
   "metadata": {},
   "outputs": [
    {
     "data": {
      "text/plain": [
       "903"
      ]
     },
     "execution_count": 7,
     "metadata": {},
     "output_type": "execute_result"
    }
   ],
   "source": [
    "obj = df.groupby('optionid')['daysToExpiry'].min()\n",
    "mx = obj.max()\n",
    "mx"
   ]
  },
  {
   "cell_type": "code",
   "execution_count": 8,
   "metadata": {},
   "outputs": [
    {
     "data": {
      "text/plain": [
       "optionid\n",
       "127294298    903\n",
       "127294299    903\n",
       "127294300    903\n",
       "127294301    903\n",
       "127294302    903\n",
       "Name: daysToExpiry, dtype: int64"
      ]
     },
     "execution_count": 8,
     "metadata": {},
     "output_type": "execute_result"
    }
   ],
   "source": [
    "obj = obj[obj == mx]\n",
    "obj.head()"
   ]
  },
  {
   "cell_type": "code",
   "execution_count": 9,
   "metadata": {},
   "outputs": [
    {
     "data": {
      "text/html": [
       "<div>\n",
       "<style scoped>\n",
       "    .dataframe tbody tr th:only-of-type {\n",
       "        vertical-align: middle;\n",
       "    }\n",
       "\n",
       "    .dataframe tbody tr th {\n",
       "        vertical-align: top;\n",
       "    }\n",
       "\n",
       "    .dataframe thead th {\n",
       "        text-align: right;\n",
       "    }\n",
       "</style>\n",
       "<table border=\"1\" class=\"dataframe\">\n",
       "  <thead>\n",
       "    <tr style=\"text-align: right;\">\n",
       "      <th></th>\n",
       "      <th>date</th>\n",
       "      <th>exdate</th>\n",
       "      <th>last_date</th>\n",
       "      <th>strike_price</th>\n",
       "      <th>best_bid</th>\n",
       "      <th>best_ask</th>\n",
       "      <th>volume</th>\n",
       "      <th>open_interest</th>\n",
       "      <th>impl_volatility</th>\n",
       "      <th>delta</th>\n",
       "      <th>gamma</th>\n",
       "      <th>vega</th>\n",
       "      <th>theta</th>\n",
       "      <th>optionid</th>\n",
       "      <th>forward_price</th>\n",
       "      <th>daysToExpiry</th>\n",
       "      <th>lifeTime</th>\n",
       "    </tr>\n",
       "  </thead>\n",
       "  <tbody>\n",
       "    <tr>\n",
       "      <th>7572729</th>\n",
       "      <td>2018-12-26</td>\n",
       "      <td>2021-12-17</td>\n",
       "      <td>20181226.0</td>\n",
       "      <td>1000000</td>\n",
       "      <td>7.5</td>\n",
       "      <td>17.4</td>\n",
       "      <td>1</td>\n",
       "      <td>0</td>\n",
       "      <td>0.310159</td>\n",
       "      <td>-0.020868</td>\n",
       "      <td>0.000038</td>\n",
       "      <td>212.0977</td>\n",
       "      <td>-10.161210</td>\n",
       "      <td>127294298</td>\n",
       "      <td>2548.872340</td>\n",
       "      <td>1087</td>\n",
       "      <td>1087</td>\n",
       "    </tr>\n",
       "    <tr>\n",
       "      <th>7580461</th>\n",
       "      <td>2018-12-27</td>\n",
       "      <td>2021-12-17</td>\n",
       "      <td>20181227.0</td>\n",
       "      <td>1000000</td>\n",
       "      <td>8.0</td>\n",
       "      <td>18.0</td>\n",
       "      <td>1</td>\n",
       "      <td>1</td>\n",
       "      <td>0.314782</td>\n",
       "      <td>-0.021189</td>\n",
       "      <td>0.000037</td>\n",
       "      <td>216.6408</td>\n",
       "      <td>-10.559520</td>\n",
       "      <td>127294298</td>\n",
       "      <td>2570.205534</td>\n",
       "      <td>1086</td>\n",
       "      <td>1087</td>\n",
       "    </tr>\n",
       "    <tr>\n",
       "      <th>7588125</th>\n",
       "      <td>2018-12-28</td>\n",
       "      <td>2021-12-17</td>\n",
       "      <td>20181228.0</td>\n",
       "      <td>1000000</td>\n",
       "      <td>8.0</td>\n",
       "      <td>17.5</td>\n",
       "      <td>1</td>\n",
       "      <td>2</td>\n",
       "      <td>0.313325</td>\n",
       "      <td>-0.020969</td>\n",
       "      <td>0.000037</td>\n",
       "      <td>214.3754</td>\n",
       "      <td>-10.419860</td>\n",
       "      <td>127294298</td>\n",
       "      <td>2565.769114</td>\n",
       "      <td>1085</td>\n",
       "      <td>1087</td>\n",
       "    </tr>\n",
       "    <tr>\n",
       "      <th>7595927</th>\n",
       "      <td>2018-12-31</td>\n",
       "      <td>2021-12-17</td>\n",
       "      <td>20181228.0</td>\n",
       "      <td>1000000</td>\n",
       "      <td>7.0</td>\n",
       "      <td>16.5</td>\n",
       "      <td>0</td>\n",
       "      <td>2</td>\n",
       "      <td>0.312168</td>\n",
       "      <td>-0.019507</td>\n",
       "      <td>0.000035</td>\n",
       "      <td>203.2778</td>\n",
       "      <td>-9.803896</td>\n",
       "      <td>127294298</td>\n",
       "      <td>2600.503990</td>\n",
       "      <td>1082</td>\n",
       "      <td>1087</td>\n",
       "    </tr>\n",
       "    <tr>\n",
       "      <th>7603604</th>\n",
       "      <td>2019-01-02</td>\n",
       "      <td>2021-12-17</td>\n",
       "      <td>20181228.0</td>\n",
       "      <td>1000000</td>\n",
       "      <td>6.1</td>\n",
       "      <td>16.0</td>\n",
       "      <td>0</td>\n",
       "      <td>2</td>\n",
       "      <td>0.309355</td>\n",
       "      <td>-0.018666</td>\n",
       "      <td>0.000034</td>\n",
       "      <td>195.8898</td>\n",
       "      <td>-9.375538</td>\n",
       "      <td>127294298</td>\n",
       "      <td>2604.869839</td>\n",
       "      <td>1080</td>\n",
       "      <td>1087</td>\n",
       "    </tr>\n",
       "  </tbody>\n",
       "</table>\n",
       "</div>"
      ],
      "text/plain": [
       "              date     exdate   last_date  strike_price  best_bid  best_ask  \\\n",
       "7572729 2018-12-26 2021-12-17  20181226.0       1000000       7.5      17.4   \n",
       "7580461 2018-12-27 2021-12-17  20181227.0       1000000       8.0      18.0   \n",
       "7588125 2018-12-28 2021-12-17  20181228.0       1000000       8.0      17.5   \n",
       "7595927 2018-12-31 2021-12-17  20181228.0       1000000       7.0      16.5   \n",
       "7603604 2019-01-02 2021-12-17  20181228.0       1000000       6.1      16.0   \n",
       "\n",
       "         volume  open_interest  impl_volatility     delta     gamma      vega  \\\n",
       "7572729       1              0         0.310159 -0.020868  0.000038  212.0977   \n",
       "7580461       1              1         0.314782 -0.021189  0.000037  216.6408   \n",
       "7588125       1              2         0.313325 -0.020969  0.000037  214.3754   \n",
       "7595927       0              2         0.312168 -0.019507  0.000035  203.2778   \n",
       "7603604       0              2         0.309355 -0.018666  0.000034  195.8898   \n",
       "\n",
       "             theta   optionid  forward_price  daysToExpiry  lifeTime  \n",
       "7572729 -10.161210  127294298    2548.872340          1087      1087  \n",
       "7580461 -10.559520  127294298    2570.205534          1086      1087  \n",
       "7588125 -10.419860  127294298    2565.769114          1085      1087  \n",
       "7595927  -9.803896  127294298    2600.503990          1082      1087  \n",
       "7603604  -9.375538  127294298    2604.869839          1080      1087  "
      ]
     },
     "execution_count": 9,
     "metadata": {},
     "output_type": "execute_result"
    }
   ],
   "source": [
    "example_id = obj.index[0]\n",
    "df[df['optionid'] == example_id].head()"
   ]
  },
  {
   "cell_type": "markdown",
   "metadata": {},
   "source": [
    "But there is one option that has an `exdate` at or before the last date in our dataset. Since dropping this `optionid` removes only 5 `(optionid, date)` pairs (i.e. 5 data points) we will just outright drop it. "
   ]
  },
  {
   "cell_type": "code",
   "execution_count": 10,
   "metadata": {},
   "outputs": [
    {
     "data": {
      "text/plain": [
       "715"
      ]
     },
     "execution_count": 10,
     "metadata": {},
     "output_type": "execute_result"
    }
   ],
   "source": [
    "obj = df[df['exdate'] <= df['date'].max()].groupby('optionid')['daysToExpiry'].min()\n",
    "mx = obj.max()\n",
    "mx"
   ]
  },
  {
   "cell_type": "code",
   "execution_count": 11,
   "metadata": {},
   "outputs": [
    {
     "data": {
      "text/plain": [
       "optionid\n",
       "31622275    715\n",
       "Name: daysToExpiry, dtype: int64"
      ]
     },
     "execution_count": 11,
     "metadata": {},
     "output_type": "execute_result"
    }
   ],
   "source": [
    "obj = obj[obj == mx]\n",
    "obj.head()"
   ]
  },
  {
   "cell_type": "code",
   "execution_count": 12,
   "metadata": {},
   "outputs": [
    {
     "data": {
      "text/html": [
       "<div>\n",
       "<style scoped>\n",
       "    .dataframe tbody tr th:only-of-type {\n",
       "        vertical-align: middle;\n",
       "    }\n",
       "\n",
       "    .dataframe tbody tr th {\n",
       "        vertical-align: top;\n",
       "    }\n",
       "\n",
       "    .dataframe thead th {\n",
       "        text-align: right;\n",
       "    }\n",
       "</style>\n",
       "<table border=\"1\" class=\"dataframe\">\n",
       "  <thead>\n",
       "    <tr style=\"text-align: right;\">\n",
       "      <th></th>\n",
       "      <th>date</th>\n",
       "      <th>exdate</th>\n",
       "      <th>last_date</th>\n",
       "      <th>strike_price</th>\n",
       "      <th>best_bid</th>\n",
       "      <th>best_ask</th>\n",
       "      <th>volume</th>\n",
       "      <th>open_interest</th>\n",
       "      <th>impl_volatility</th>\n",
       "      <th>delta</th>\n",
       "      <th>gamma</th>\n",
       "      <th>vega</th>\n",
       "      <th>theta</th>\n",
       "      <th>optionid</th>\n",
       "      <th>forward_price</th>\n",
       "      <th>daysToExpiry</th>\n",
       "      <th>lifeTime</th>\n",
       "    </tr>\n",
       "  </thead>\n",
       "  <tbody>\n",
       "    <tr>\n",
       "      <th>288542</th>\n",
       "      <td>2004-06-28</td>\n",
       "      <td>2006-06-17</td>\n",
       "      <td>20040628.0</td>\n",
       "      <td>1115000</td>\n",
       "      <td>84.7</td>\n",
       "      <td>88.7</td>\n",
       "      <td>100</td>\n",
       "      <td>10631</td>\n",
       "      <td>0.186653</td>\n",
       "      <td>-0.362154</td>\n",
       "      <td>0.001239</td>\n",
       "      <td>583.3969</td>\n",
       "      <td>-17.78302</td>\n",
       "      <td>31622275</td>\n",
       "      <td>1172.446159</td>\n",
       "      <td>719</td>\n",
       "      <td>719</td>\n",
       "    </tr>\n",
       "    <tr>\n",
       "      <th>288817</th>\n",
       "      <td>2004-06-29</td>\n",
       "      <td>2006-06-17</td>\n",
       "      <td>20040629.0</td>\n",
       "      <td>1115000</td>\n",
       "      <td>81.6</td>\n",
       "      <td>85.6</td>\n",
       "      <td>40</td>\n",
       "      <td>2</td>\n",
       "      <td>0.182844</td>\n",
       "      <td>-0.358732</td>\n",
       "      <td>0.001259</td>\n",
       "      <td>582.7842</td>\n",
       "      <td>-17.47740</td>\n",
       "      <td>31622275</td>\n",
       "      <td>1174.919843</td>\n",
       "      <td>718</td>\n",
       "      <td>719</td>\n",
       "    </tr>\n",
       "    <tr>\n",
       "      <th>289094</th>\n",
       "      <td>2004-06-30</td>\n",
       "      <td>2006-06-17</td>\n",
       "      <td>20040629.0</td>\n",
       "      <td>1115000</td>\n",
       "      <td>83.2</td>\n",
       "      <td>83.7</td>\n",
       "      <td>0</td>\n",
       "      <td>92</td>\n",
       "      <td>0.183636</td>\n",
       "      <td>-0.356319</td>\n",
       "      <td>0.001246</td>\n",
       "      <td>583.5762</td>\n",
       "      <td>-18.25211</td>\n",
       "      <td>31622275</td>\n",
       "      <td>1177.082994</td>\n",
       "      <td>717</td>\n",
       "      <td>719</td>\n",
       "    </tr>\n",
       "    <tr>\n",
       "      <th>289290</th>\n",
       "      <td>2004-07-01</td>\n",
       "      <td>2006-06-17</td>\n",
       "      <td>20040701.0</td>\n",
       "      <td>1115000</td>\n",
       "      <td>86.0</td>\n",
       "      <td>90.0</td>\n",
       "      <td>50</td>\n",
       "      <td>95</td>\n",
       "      <td>0.182954</td>\n",
       "      <td>-0.373285</td>\n",
       "      <td>0.001284</td>\n",
       "      <td>585.7026</td>\n",
       "      <td>-18.25056</td>\n",
       "      <td>31622275</td>\n",
       "      <td>1163.283931</td>\n",
       "      <td>716</td>\n",
       "      <td>719</td>\n",
       "    </tr>\n",
       "    <tr>\n",
       "      <th>289573</th>\n",
       "      <td>2004-07-02</td>\n",
       "      <td>2006-06-17</td>\n",
       "      <td>20040701.0</td>\n",
       "      <td>1115000</td>\n",
       "      <td>89.7</td>\n",
       "      <td>93.7</td>\n",
       "      <td>0</td>\n",
       "      <td>142</td>\n",
       "      <td>0.184864</td>\n",
       "      <td>-0.381652</td>\n",
       "      <td>0.001284</td>\n",
       "      <td>587.2330</td>\n",
       "      <td>-19.07706</td>\n",
       "      <td>31622275</td>\n",
       "      <td>1156.701283</td>\n",
       "      <td>715</td>\n",
       "      <td>719</td>\n",
       "    </tr>\n",
       "  </tbody>\n",
       "</table>\n",
       "</div>"
      ],
      "text/plain": [
       "             date     exdate   last_date  strike_price  best_bid  best_ask  \\\n",
       "288542 2004-06-28 2006-06-17  20040628.0       1115000      84.7      88.7   \n",
       "288817 2004-06-29 2006-06-17  20040629.0       1115000      81.6      85.6   \n",
       "289094 2004-06-30 2006-06-17  20040629.0       1115000      83.2      83.7   \n",
       "289290 2004-07-01 2006-06-17  20040701.0       1115000      86.0      90.0   \n",
       "289573 2004-07-02 2006-06-17  20040701.0       1115000      89.7      93.7   \n",
       "\n",
       "        volume  open_interest  impl_volatility     delta     gamma      vega  \\\n",
       "288542     100          10631         0.186653 -0.362154  0.001239  583.3969   \n",
       "288817      40              2         0.182844 -0.358732  0.001259  582.7842   \n",
       "289094       0             92         0.183636 -0.356319  0.001246  583.5762   \n",
       "289290      50             95         0.182954 -0.373285  0.001284  585.7026   \n",
       "289573       0            142         0.184864 -0.381652  0.001284  587.2330   \n",
       "\n",
       "           theta  optionid  forward_price  daysToExpiry  lifeTime  \n",
       "288542 -17.78302  31622275    1172.446159           719       719  \n",
       "288817 -17.47740  31622275    1174.919843           718       719  \n",
       "289094 -18.25211  31622275    1177.082994           717       719  \n",
       "289290 -18.25056  31622275    1163.283931           716       719  \n",
       "289573 -19.07706  31622275    1156.701283           715       719  "
      ]
     },
     "execution_count": 12,
     "metadata": {},
     "output_type": "execute_result"
    }
   ],
   "source": [
    "example_id = obj.index[0]\n",
    "df[df['optionid'] == obj[obj == mx].index[0]]"
   ]
  },
  {
   "cell_type": "code",
   "execution_count": 13,
   "metadata": {},
   "outputs": [],
   "source": [
    "df = df[~df['optionid'].isin({31622275})].reset_index(drop = True)"
   ]
  },
  {
   "cell_type": "markdown",
   "metadata": {},
   "source": [
    "### Robustness Tests\n",
    "\n",
    "Although it gained us ~177k data points (assuming we were going to otherwise drop them), this does not seem to get us back all the available data. We have a few options\n",
    "1. Just keep them and treat them as independent data points (in this case we cannot guarantee uniqueness to the `(date, exdate, strike_price, lifeTime)` level.) \n",
    "2. Drop them and potentially merge them back in\n",
    "  - We could outright drop anything that's duplicated\n",
    "  - We could look at duplicates and select one security\n",
    "      * The combined liquidity product (take total `volume`, `open_interest`, maximum `best_bid`, minimum `best_ask`)\n",
    "\n",
    "We will implement all of these and create a data loader that lets us separate loading the data and running the analysis. If we require an analysis where `(date, exdate, strike_price, lifeTime)` must be unique we must pass `drop = False` in our data loader. "
   ]
  },
  {
   "cell_type": "code",
   "execution_count": 14,
   "metadata": {},
   "outputs": [],
   "source": [
    "slct = ['date','exdate','strike_price','lifeTime']\n",
    "df_ct = df.groupby(slct)['volume'].count().reset_index().rename(\n",
    "    {'volume':'ct'},axis=1)\n",
    "df = df.merge(df_ct, how = 'left', on = slct, validate = 'm:1')"
   ]
  },
  {
   "cell_type": "code",
   "execution_count": 15,
   "metadata": {},
   "outputs": [
    {
     "name": "stdout",
     "output_type": "stream",
     "text": [
      "7573499\n",
      "7573499\n"
     ]
    }
   ],
   "source": [
    "calc = ['volume','open_interest','best_bid','best_ask']\n",
    "df_outright_drop = df[df['ct'] == 1].copy()[slct + calc]\n",
    "print(len(df_outright_drop))\n",
    "print(len(df_outright_drop[slct].drop_duplicates()))"
   ]
  },
  {
   "cell_type": "code",
   "execution_count": 16,
   "metadata": {},
   "outputs": [
    {
     "data": {
      "text/html": [
       "<div>\n",
       "<style scoped>\n",
       "    .dataframe tbody tr th:only-of-type {\n",
       "        vertical-align: middle;\n",
       "    }\n",
       "\n",
       "    .dataframe tbody tr th {\n",
       "        vertical-align: top;\n",
       "    }\n",
       "\n",
       "    .dataframe thead th {\n",
       "        text-align: right;\n",
       "    }\n",
       "</style>\n",
       "<table border=\"1\" class=\"dataframe\">\n",
       "  <thead>\n",
       "    <tr style=\"text-align: right;\">\n",
       "      <th></th>\n",
       "      <th>date</th>\n",
       "      <th>exdate</th>\n",
       "      <th>strike_price</th>\n",
       "      <th>lifeTime</th>\n",
       "      <th>volume</th>\n",
       "      <th>open_interest</th>\n",
       "      <th>best_bid</th>\n",
       "      <th>best_ask</th>\n",
       "    </tr>\n",
       "  </thead>\n",
       "  <tbody>\n",
       "    <tr>\n",
       "      <th>0</th>\n",
       "      <td>2000-01-03</td>\n",
       "      <td>2000-03-18</td>\n",
       "      <td>1410000</td>\n",
       "      <td>75</td>\n",
       "      <td>0</td>\n",
       "      <td>1</td>\n",
       "      <td>36.750</td>\n",
       "      <td>38.750</td>\n",
       "    </tr>\n",
       "    <tr>\n",
       "      <th>1</th>\n",
       "      <td>2000-01-03</td>\n",
       "      <td>2000-01-22</td>\n",
       "      <td>1505000</td>\n",
       "      <td>19</td>\n",
       "      <td>0</td>\n",
       "      <td>50</td>\n",
       "      <td>55.250</td>\n",
       "      <td>57.250</td>\n",
       "    </tr>\n",
       "    <tr>\n",
       "      <th>2</th>\n",
       "      <td>2000-01-03</td>\n",
       "      <td>2000-06-17</td>\n",
       "      <td>1350000</td>\n",
       "      <td>166</td>\n",
       "      <td>290</td>\n",
       "      <td>14570</td>\n",
       "      <td>40.750</td>\n",
       "      <td>42.750</td>\n",
       "    </tr>\n",
       "    <tr>\n",
       "      <th>3</th>\n",
       "      <td>2000-01-03</td>\n",
       "      <td>2000-01-22</td>\n",
       "      <td>1500000</td>\n",
       "      <td>19</td>\n",
       "      <td>57</td>\n",
       "      <td>505</td>\n",
       "      <td>51.625</td>\n",
       "      <td>53.625</td>\n",
       "    </tr>\n",
       "    <tr>\n",
       "      <th>4</th>\n",
       "      <td>2000-01-03</td>\n",
       "      <td>2000-01-22</td>\n",
       "      <td>1540000</td>\n",
       "      <td>19</td>\n",
       "      <td>0</td>\n",
       "      <td>0</td>\n",
       "      <td>84.875</td>\n",
       "      <td>86.875</td>\n",
       "    </tr>\n",
       "  </tbody>\n",
       "</table>\n",
       "</div>"
      ],
      "text/plain": [
       "        date     exdate  strike_price  lifeTime  volume  open_interest  \\\n",
       "0 2000-01-03 2000-03-18       1410000        75       0              1   \n",
       "1 2000-01-03 2000-01-22       1505000        19       0             50   \n",
       "2 2000-01-03 2000-06-17       1350000       166     290          14570   \n",
       "3 2000-01-03 2000-01-22       1500000        19      57            505   \n",
       "4 2000-01-03 2000-01-22       1540000        19       0              0   \n",
       "\n",
       "   best_bid  best_ask  \n",
       "0    36.750    38.750  \n",
       "1    55.250    57.250  \n",
       "2    40.750    42.750  \n",
       "3    51.625    53.625  \n",
       "4    84.875    86.875  "
      ]
     },
     "execution_count": 16,
     "metadata": {},
     "output_type": "execute_result"
    }
   ],
   "source": [
    "df_outright_drop.head()"
   ]
  },
  {
   "cell_type": "code",
   "execution_count": 17,
   "metadata": {},
   "outputs": [
    {
     "name": "stdout",
     "output_type": "stream",
     "text": [
      "8018011\n",
      "8018011\n"
     ]
    }
   ],
   "source": [
    "field_map = {'volume':'sum','open_interest':'sum','best_bid':'max','best_ask':'min'}\n",
    "df_mrg_liquidity = df.groupby(slct).agg(field_map).reset_index()\n",
    "print(len(df_mrg_liquidity))\n",
    "print(len(df_mrg_liquidity[slct].drop_duplicates()))"
   ]
  },
  {
   "cell_type": "code",
   "execution_count": 18,
   "metadata": {},
   "outputs": [
    {
     "data": {
      "text/html": [
       "<div>\n",
       "<style scoped>\n",
       "    .dataframe tbody tr th:only-of-type {\n",
       "        vertical-align: middle;\n",
       "    }\n",
       "\n",
       "    .dataframe tbody tr th {\n",
       "        vertical-align: top;\n",
       "    }\n",
       "\n",
       "    .dataframe thead th {\n",
       "        text-align: right;\n",
       "    }\n",
       "</style>\n",
       "<table border=\"1\" class=\"dataframe\">\n",
       "  <thead>\n",
       "    <tr style=\"text-align: right;\">\n",
       "      <th></th>\n",
       "      <th>date</th>\n",
       "      <th>exdate</th>\n",
       "      <th>strike_price</th>\n",
       "      <th>lifeTime</th>\n",
       "      <th>volume</th>\n",
       "      <th>open_interest</th>\n",
       "      <th>best_bid</th>\n",
       "      <th>best_ask</th>\n",
       "    </tr>\n",
       "  </thead>\n",
       "  <tbody>\n",
       "    <tr>\n",
       "      <th>0</th>\n",
       "      <td>2000-01-03</td>\n",
       "      <td>2000-01-22</td>\n",
       "      <td>975000</td>\n",
       "      <td>19</td>\n",
       "      <td>0</td>\n",
       "      <td>5537</td>\n",
       "      <td>0.0000</td>\n",
       "      <td>0.1250</td>\n",
       "    </tr>\n",
       "    <tr>\n",
       "      <th>1</th>\n",
       "      <td>2000-01-03</td>\n",
       "      <td>2000-01-22</td>\n",
       "      <td>1025000</td>\n",
       "      <td>19</td>\n",
       "      <td>100</td>\n",
       "      <td>4143</td>\n",
       "      <td>0.0625</td>\n",
       "      <td>0.1250</td>\n",
       "    </tr>\n",
       "    <tr>\n",
       "      <th>2</th>\n",
       "      <td>2000-01-03</td>\n",
       "      <td>2000-01-22</td>\n",
       "      <td>1050000</td>\n",
       "      <td>19</td>\n",
       "      <td>400</td>\n",
       "      <td>11873</td>\n",
       "      <td>0.1250</td>\n",
       "      <td>0.1875</td>\n",
       "    </tr>\n",
       "    <tr>\n",
       "      <th>3</th>\n",
       "      <td>2000-01-03</td>\n",
       "      <td>2000-01-22</td>\n",
       "      <td>1075000</td>\n",
       "      <td>19</td>\n",
       "      <td>32</td>\n",
       "      <td>105</td>\n",
       "      <td>0.0625</td>\n",
       "      <td>0.5625</td>\n",
       "    </tr>\n",
       "    <tr>\n",
       "      <th>4</th>\n",
       "      <td>2000-01-03</td>\n",
       "      <td>2000-01-22</td>\n",
       "      <td>1100000</td>\n",
       "      <td>19</td>\n",
       "      <td>29</td>\n",
       "      <td>20934</td>\n",
       "      <td>0.2500</td>\n",
       "      <td>0.3750</td>\n",
       "    </tr>\n",
       "  </tbody>\n",
       "</table>\n",
       "</div>"
      ],
      "text/plain": [
       "        date     exdate  strike_price  lifeTime  volume  open_interest  \\\n",
       "0 2000-01-03 2000-01-22        975000        19       0           5537   \n",
       "1 2000-01-03 2000-01-22       1025000        19     100           4143   \n",
       "2 2000-01-03 2000-01-22       1050000        19     400          11873   \n",
       "3 2000-01-03 2000-01-22       1075000        19      32            105   \n",
       "4 2000-01-03 2000-01-22       1100000        19      29          20934   \n",
       "\n",
       "   best_bid  best_ask  \n",
       "0    0.0000    0.1250  \n",
       "1    0.0625    0.1250  \n",
       "2    0.1250    0.1875  \n",
       "3    0.0625    0.5625  \n",
       "4    0.2500    0.3750  "
      ]
     },
     "execution_count": 18,
     "metadata": {},
     "output_type": "execute_result"
    }
   ],
   "source": [
    "df_mrg_liquidity.head()"
   ]
  },
  {
   "cell_type": "markdown",
   "metadata": {},
   "source": [
    "# Final Function"
   ]
  },
  {
   "cell_type": "code",
   "execution_count": 19,
   "metadata": {},
   "outputs": [],
   "source": [
    "def load_data(drop_dups = False, mrg_liq = True):\n",
    "    '''\n",
    "    This function loads a dataset for downstream analysis.\n",
    "    \n",
    "    :param bool drop_dups: whether or not to drop duplicates\n",
    "    :param bool mrg_liq: whether or not to merge liquidity\n",
    "    '''\n",
    "    \n",
    "    ids_to_drop = {31622275}\n",
    "\n",
    "    df = pd.read_csv('./dat/spx_option_prices.csv')\n",
    "    df = df[['date','exdate','strike_price','best_bid','best_offer','volume','open_interest','optionid']]\n",
    "    df = df[~df['optionid'].isin(ids_to_drop)]\n",
    "    df.rename({'best_offer':'best_ask'}, axis = 1, inplace = True)\n",
    "\n",
    "    df['exdate'] = pd.to_datetime(df['exdate'].astype(str))\n",
    "    df['date'] = pd.to_datetime(df['date'].astype(str))\n",
    "\n",
    "    df['daysToExpiry'] = ((df['exdate'] - df['date']).astype(int)/1e9/3600/24).astype(int)\n",
    "\n",
    "    df_lt = df.groupby('optionid')['daysToExpiry'].max().reset_index().rename(\n",
    "        {'daysToExpiry':'lifeTime'},axis=1)\n",
    "    df = df.merge(df_lt, how = 'left', on = 'optionid', validate = 'm:1')\n",
    "\n",
    "    slct = ['date','exdate','strike_price','lifeTime']\n",
    "    calc = ['volume','open_interest','best_bid','best_ask','daysToExpiry']\n",
    "    df_ct = df.groupby(slct)['volume']\n",
    "    df_ct = df_ct.count().reset_index().rename({'volume':'ct'},axis=1)\n",
    "\n",
    "    if drop_dups:\n",
    "        df = df.merge(df_ct, how = 'left', on = slct, validate = 'm:1')\n",
    "        df = df[df['ct'] == 1].drop('ct', axis=1)\n",
    "    else:\n",
    "        if mrg_liq:\n",
    "            field_map = {'volume':'sum','open_interest':'sum','best_bid':'max','best_ask':'min'}\n",
    "            df = df.groupby(slct + ['daysToExpiry']).agg(field_map).reset_index()\n",
    "        #else: # Then pass and keep the data. (Ordered different than the documentation)\n",
    "\n",
    "    return df[slct + calc]"
   ]
  },
  {
   "cell_type": "code",
   "execution_count": 20,
   "metadata": {},
   "outputs": [],
   "source": [
    "def normalize_data(df):\n",
    "    all_cols = sorted(df.columns)\n",
    "    return df.sort_values(all_cols).reset_index(drop = True)[all_cols]\n",
    "\n",
    "df_outright_drop_fn = normalize_data(load_data(drop_dups = True)).drop('daysToExpiry', axis = 1)\n",
    "df_mrg_liquidity_fn = normalize_data(load_data()).drop('daysToExpiry', axis = 1)\n",
    "df_fn = normalize_data(load_data(mrg_liq = False)).drop('daysToExpiry', axis = 1)\n",
    "\n",
    "df_outright_drop = normalize_data(df_outright_drop)\n",
    "df_mrg_liquidity = normalize_data(df_mrg_liquidity)\n",
    "df = normalize_data(df)\n",
    "\n",
    "assert df_outright_drop_fn.equals(normalize_data(df_outright_drop))\n",
    "assert df_mrg_liquidity_fn.equals(normalize_data(df_mrg_liquidity))\n",
    "assert df_fn.equals(normalize_data(df[df_outright_drop.columns]))"
   ]
  }
 ],
 "metadata": {
  "kernelspec": {
   "display_name": "Python 3",
   "language": "python",
   "name": "python3"
  },
  "language_info": {
   "codemirror_mode": {
    "name": "ipython",
    "version": 3
   },
   "file_extension": ".py",
   "mimetype": "text/x-python",
   "name": "python",
   "nbconvert_exporter": "python",
   "pygments_lexer": "ipython3",
   "version": "3.6.11"
  }
 },
 "nbformat": 4,
 "nbformat_minor": 4
}
